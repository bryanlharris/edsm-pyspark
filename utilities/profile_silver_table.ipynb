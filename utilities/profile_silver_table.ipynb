{
 "cells": [
  {
   "cell_type": "code",
   "execution_count": 0,
   "metadata": {
    "application/vnd.databricks.v1+cell": {
     "cellMetadata": {
      "byteLimit": 2048000,
      "rowLimit": 10000
     },
     "inputWidgets": {},
     "nuid": "441d3dbb-6a01-4e2c-bd27-0eee4a5e7614",
     "showTitle": false,
     "tableResultSettingsMap": {},
     "title": ""
    }
   },
   "outputs": [],
   "source": [
    "import json\n",
    "from glob import glob\n",
    "\n",
    "paths = glob('../layer_02_silver/*.json')\n",
    "tables = [path.split('/')[-1].split('.')[0] for path in paths]\n",
    "tables.sort()\n",
    "tables.append('None Selected')\n",
    "\n",
    "dbutils.widgets.combobox('table', 'None Selected', tables)"
   ]
  },
  {
   "cell_type": "code",
   "execution_count": 0,
   "metadata": {
    "application/vnd.databricks.v1+cell": {
     "cellMetadata": {
      "byteLimit": 2048000,
      "rowLimit": 10000
     },
     "collapsed": true,
     "inputWidgets": {},
     "nuid": "0144ba89-4479-47de-b961-34a449c5f8cc",
     "showTitle": false,
     "tableResultSettingsMap": {},
     "title": ""
    }
   },
   "outputs": [],
   "source": [
    "%pip install databricks-labs-dqx==0.6.0"
   ]
  },
  {
   "cell_type": "code",
   "execution_count": 0,
   "metadata": {
    "application/vnd.databricks.v1+cell": {
     "cellMetadata": {
      "byteLimit": 2048000,
      "rowLimit": 10000
     },
     "collapsed": true,
     "inputWidgets": {},
     "nuid": "5f73723c-4a9a-4c63-a596-46624b73d850",
     "showTitle": false,
     "tableResultSettingsMap": {},
     "title": ""
    }
   },
   "outputs": [],
   "source": [
    "dbutils.library.restartPython()"
   ]
  },
  {
   "cell_type": "code",
   "execution_count": 0,
   "metadata": {
    "application/vnd.databricks.v1+cell": {
     "cellMetadata": {
      "byteLimit": 2048000,
      "rowLimit": 10000
     },
     "inputWidgets": {},
     "nuid": "84c8f7c0-244c-469b-af76-b593603636bb",
     "showTitle": false,
     "tableResultSettingsMap": {},
     "title": ""
    }
   },
   "outputs": [],
   "source": [
    "table_name = dbutils.widgets.get('table')\n"
   ]
  },
  {
   "cell_type": "code",
   "execution_count": 0,
   "metadata": {
    "application/vnd.databricks.v1+cell": {
     "cellMetadata": {
      "byteLimit": 2048000,
      "rowLimit": 10000
     },
     "inputWidgets": {},
     "nuid": "25d2d332-8e3f-42e6-962c-99351af235cd",
     "showTitle": false,
     "tableResultSettingsMap": {},
     "title": ""
    }
   },
   "outputs": [],
   "source": [
    "import os\n",
    "import sys\n",
    "import json\n",
    "from pathlib import Path\n",
    "\n",
    "sys.path.append(f\"{os.getcwd()}/..\")\n",
    "\n",
    "from databricks.sdk import WorkspaceClient\n",
    "from databricks.labs.dqx.engine import DQEngineCore\n",
    "from databricks.labs.dqx.profiler.generator import DQGenerator\n",
    "from databricks.labs.dqx.profiler.profiler import DQProfiler\n",
    "from pyspark.sql.functions import col, to_date, when, lit\n",
    "from pyspark.sql.types import TimestampType, DateType\n",
    "from functions.utility import apply_job_type\n",
    "\n",
    "if table_name == 'None Selected':\n",
    "    print('No table selected.')\n",
    "else:\n",
    "    settings = json.loads(Path(f'../layer_02_silver/{table_name}.json').read_text())\n",
    "    settings = apply_job_type(settings)\n",
    "    dst_table_name = settings['dst_table_name']\n",
    "\n",
    "    ws = WorkspaceClient()\n",
    "    df = spark.table(dst_table_name)\n",
    "    if \"valid_to\" in df.columns:\n",
    "        df = df.withColumn(\n",
    "            \"valid_to\",\n",
    "            when(col(\"valid_to\") > to_date(lit(\"2100-01-01\")), None).otherwise(col(\"valid_to\"))\n",
    "        )\n",
    "\n",
    "    profiler = DQProfiler(spark)\n",
    "    _, profiles = profiler.profile(df)\n",
    "\n",
    "    generator = DQGenerator(ws)\n",
    "    # checks = generator.generate_dq_rules(profiles)\n",
    "    checks = generator.generate_dq_rules(profiles, exclude_columns=[\"_rescued_data\"])\n",
    "\n",
    "    def _profile_to_check(p):\n",
    "        function_map = {\n",
    "            'in_list': 'is_in',\n",
    "            'range': 'min_max',\n",
    "            'not_null_or_empty': 'is_not_null_or_empty',\n",
    "            'max_length': 'max_length',\n",
    "            'matches_regex_list': 'matches_regex_list',\n",
    "            'nonzero': 'is_nonzero',\n",
    "            'starts_with_prefixes': 'starts_with_prefixes',\n",
    "        }\n",
    "        function_name = function_map.get(p.name, p.name)\n",
    "        args = {'column': p.column}\n",
    "        if p.parameters:\n",
    "            args.update(p.parameters)\n",
    "        return {\n",
    "            'name': f\"{p.column}_{function_name}\",\n",
    "            'check': {\n",
    "                'function': function_name,\n",
    "                'arguments': args,\n",
    "            }\n",
    "        }\n",
    "\n",
    "    checks = [_profile_to_check(p) for p in profiles]\n",
    "    json_str = json.dumps(checks, indent=4, default=str)\n",
    "    # display(HTML(f\"<pre>{json_str}</pre>\"))\n",
    "\n",
    "    import html\n",
    "\n",
    "    escaped = html.escape(json_str)\n",
    "\n",
    "    display(HTML(f\"\"\"\n",
    "    <button onclick=\"copyJson()\">Copy JSON to Clipboard</button>\n",
    "    <textarea id=\"json-text\" style=\"display:none;\">{escaped}</textarea>\n",
    "    <pre>{escaped}</pre>\n",
    "    <script>\n",
    "    function copyJson() {{\n",
    "        var textArea = document.getElementById(\"json-text\");\n",
    "        textArea.style.display = \"block\";\n",
    "        textArea.select();\n",
    "        document.execCommand(\"copy\");\n",
    "        textArea.style.display = \"none\";\n",
    "    }}\n",
    "    </script>\n",
    "    \"\"\")"
   ]
  }
 ],
 "metadata": {
  "application/vnd.databricks.v1+notebook": {
   "computePreferences": {
    "hardware": {
     "accelerator": null,
     "gpuPoolId": null,
     "memory": "HIGH"
    }
   },
   "dashboards": [],
   "environmentMetadata": {
    "base_environment": "",
    "environment_version": "3"
   },
   "inputWidgetPreferences": null,
   "language": "python",
   "notebookMetadata": {
    "pythonIndentUnit": 4
   },
   "notebookName": "profile_silver_table",
   "widgets": {
    "table": {
     "currentValue": "systemsWithCoordinates",
     "nuid": "043182d5-ff32-4f1c-91e7-c23be2a0f4f6",
     "typedWidgetInfo": {
      "autoCreated": false,
      "defaultValue": "None Selected",
      "label": null,
      "name": "table",
      "options": {
       "widgetDisplayType": "Dropdown",
       "choices": [
        "bodies7days",
        "codex",
        "powerPlay",
        "stations",
        "systemsPopulated",
        "systemsWithCoordinates",
        "systemsWithoutCoordinates",
        "None Selected"
       ],
       "fixedDomain": false,
       "multiselect": false
      },
      "parameterDataType": "String"
     },
     "widgetInfo": {
      "widgetType": "combobox",
      "defaultValue": "None Selected",
      "label": null,
      "name": "table",
      "options": {
       "widgetType": "dropdown",
       "autoCreated": null,
       "choices": [
        "bodies7days",
        "codex",
        "powerPlay",
        "stations",
        "systemsPopulated",
        "systemsWithCoordinates",
        "systemsWithoutCoordinates",
        "None Selected"
       ]
      }
     }
    }
   }
  },
  "kernelspec": {
   "display_name": "Python 3",
   "language": "python",
   "name": "python3"
  },
  "language_info": {
   "name": "python"
  }
 },
 "nbformat": 4,
 "nbformat_minor": 0
}
